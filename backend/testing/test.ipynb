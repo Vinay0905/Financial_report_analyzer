{
 "cells": [
  {
   "cell_type": "code",
   "execution_count": 1,
   "id": "fa43fef4",
   "metadata": {},
   "outputs": [
    {
     "name": "stdout",
     "output_type": "stream",
     "text": [
      "hi\n"
     ]
    }
   ],
   "source": [
    "print(\"hi\")"
   ]
  },
  {
   "cell_type": "code",
   "execution_count": 3,
   "id": "e0626209",
   "metadata": {},
   "outputs": [],
   "source": [
    "from langgraph.graph import StateGraph, START, END\n",
    "from typing import TypedDict\n"
   ]
  },
  {
   "cell_type": "code",
   "execution_count": 6,
   "id": "5da3cdff",
   "metadata": {},
   "outputs": [],
   "source": [
    "from langgraph.graph import StateGraph, START, END\n",
    "from typing import TypedDict\n",
    "\n",
    "DataExtractionAgent=\"\"\n",
    "FinanceAgent=''\n",
    "MathAgent=''\n",
    "MarketAgent=''\n",
    "SentimentAgent=''\n",
    "SupervisorAgent=''\n",
    "\n",
    "class FinanceState(TypedDict):\n",
    "    file_path: str\n",
    "    financials: dict\n",
    "    ratios: dict\n",
    "    market_data: dict\n",
    "    sentiment: dict\n",
    "    markdown_file: str\n",
    "    executive_summary: str\n",
    "\n",
    "def data_extraction_node(state: FinanceState):\n",
    "    extracted = DataExtractionAgent().extract(state['file_path'])\n",
    "    return {\"financials\": extracted}\n",
    "\n",
    "def ratio_calc_node(state: FinanceState):\n",
    "    ratios = MathAgent().compute_ratios(state['financials'])\n",
    "    return {\"ratios\": ratios}\n",
    "\n",
    "def market_node(state: FinanceState):\n",
    "    financials = state.get(\"financials\", {})\n",
    "    symbol = financials.get(\"symbol\")\n",
    "    company_name = financials.get(\"company_name\")\n",
    "    market = MarketAgent().fetch(symbol=symbol, company_name=company_name)\n",
    "    return {\"market_data\": market}\n",
    "\n",
    "def sentiment_node(state: FinanceState):\n",
    "    financials = state.get(\"financials\", {})\n",
    "    symbol = financials.get(\"symbol\")\n",
    "    company_name = financials.get(\"company_name\")\n",
    "    sentiment = SentimentAgent().analyze(symbol=symbol, company_name=company_name)\n",
    "    return {\"sentiment\": sentiment}\n",
    "\n",
    "def supervisor_node(state: FinanceState):\n",
    "    # Aggregate, LLM summary, and markdown writing handled by supervisor agent\n",
    "    result = SupervisorAgent().aggregate_and_write(state)\n",
    "    return {\n",
    "        \"markdown_file\": result[\"markdown_file\"],\n",
    "        \"executive_summary\": result[\"executive_summary\"]\n",
    "    }"
   ]
  },
  {
   "cell_type": "code",
   "execution_count": 7,
   "id": "77bdfce1",
   "metadata": {},
   "outputs": [
    {
     "data": {
      "text/plain": [
       "<langgraph.graph.state.StateGraph at 0x1d15d3878c0>"
      ]
     },
     "execution_count": 7,
     "metadata": {},
     "output_type": "execute_result"
    }
   ],
   "source": [
    "\n",
    "builder = StateGraph(FinanceState)\n",
    "builder.add_node(\"data_extraction\", data_extraction_node)\n",
    "builder.add_node(\"ratio_calc\", ratio_calc_node)\n",
    "builder.add_node(\"market\", market_node)\n",
    "builder.add_node(\"sentiment\", sentiment_node)\n",
    "builder.add_node(\"supervisor\", supervisor_node)\n",
    "\n",
    "builder.add_edge(START, \"data_extraction\")\n",
    "builder.add_edge(\"data_extraction\", \"ratio_calc\")\n",
    "builder.add_edge(\"data_extraction\", \"market\")\n",
    "builder.add_edge(\"data_extraction\", \"sentiment\")\n",
    "builder.add_edge(\"ratio_calc\", \"supervisor\")\n",
    "builder.add_edge(\"market\", \"supervisor\")\n",
    "builder.add_edge(\"sentiment\", \"supervisor\")\n",
    "builder.add_edge(\"supervisor\", END)"
   ]
  },
  {
   "cell_type": "code",
   "execution_count": 9,
   "id": "e302ca53",
   "metadata": {},
   "outputs": [],
   "source": [
    "workflow=builder.compile()"
   ]
  },
  {
   "cell_type": "code",
   "execution_count": 10,
   "id": "76f14843",
   "metadata": {},
   "outputs": [
    {
     "data": {
      "image/png": "[encoded data removed]",
      "text/plain": [
       "<langgraph.graph.state.CompiledStateGraph object at 0x000001D15F2CCAD0>"
      ]
     },
     "execution_count": 10,
     "metadata": {},
     "output_type": "execute_result"
    }
   ],
   "source": [
    "workflow"
   ]
  },
  {
   "cell_type": "code",
   "execution_count": 11,
   "id": "4948d9dc",
   "metadata": {},
   "outputs": [
    {
     "ename": "AttributeError",
     "evalue": "'CompiledStateGraph' object has no attribute 'draw_mermaid_png'",
     "output_type": "error",
     "traceback": [
      "\u001b[31m---------------------------------------------------------------------------\u001b[39m",
      "\u001b[31mAttributeError\u001b[39m                            Traceback (most recent call last)",
      "\u001b[36mCell\u001b[39m\u001b[36m \u001b[39m\u001b[32mIn[11]\u001b[39m\u001b[32m, line 1\u001b[39m\n\u001b[32m----> \u001b[39m\u001b[32m1\u001b[39m workflow.draw_mermaid_png(\u001b[33m\"\u001b[39m\u001b[33mworkflow_graph.png\u001b[39m\u001b[33m\"\u001b[39m)\n",
      "\u001b[31mAttributeError\u001b[39m: 'CompiledStateGraph' object has no attribute 'draw_mermaid_png'"
     ]
    }
   ],
   "source": [
    "workflow.draw_mermaid_png(\"workflow_graph.png\") "
   ]
  },
  {
   "cell_type": "markdown",
   "id": "956b09d0",
   "metadata": {},
   "source": []
  },
  {
   "cell_type": "code",
   "execution_count": 4,
   "id": "3174523b",
   "metadata": {},
   "outputs": [],
   "source": [
    "from youtube_search import YoutubeSearch\n",
    "\n",
    "results = YoutubeSearch('AI agent development', max_results=5).to_dict()\n",
    "# for video in results:\n",
    "#     print(video['title'], video['url_suffix'])\n",
    "\n",
    "# results"
   ]
  },
  {
   "cell_type": "code",
   "execution_count": 10,
   "id": "25e727e9",
   "metadata": {},
   "outputs": [
    {
     "name": "stdout",
     "output_type": "stream",
     "text": [
      "{'videos': [{'id': 'McojvctVsUs', 'thumbnails': ['https://i.ytimg.com/vi/McojvctVsUs/hq720.jpg?sqp=-oaymwEjCOgCEMoBSFryq4qpAxUIARUAAAAAGAElAADIQj0AgKJDeAE=&rs=AOn4CLBn7fFPwsPKi1LSNfyK_qQa8fu_jw', 'https://i.ytimg.com/vi/McojvctVsUs/hq720.jpg?sqp=-oaymwEXCNAFEJQDSFryq4qpAwkIARUAAIhCGAE=&rs=AOn4CLCn-Hz5vIZh-agdfuZPXCHiCbVH7Q'], 'title': 'C++ Tutorial For Beginners | C++ Programming | C++ | C++ Basics | C++ For Beginners | Simplilearn', 'long_desc': None, 'channel': 'Simplilearn', 'duration': '26:30', 'views': '1,198,125 views', 'publish_time': '4 years ago', 'url_suffix': '/watch?v=McojvctVsUs&pp=ygUKQysrIGJhc2ljcw%3D%3D'}, {'id': 'MNeX4EGtR5Y', 'thumbnails': ['https://i.ytimg.com/vi/MNeX4EGtR5Y/hq720.jpg?sqp=-oaymwEjCOgCEMoBSFryq4qpAxUIARUAAAAAGAElAADIQj0AgKJDeAE=&rs=AOn4CLDSv18A61bbarnsRI8h_tiC77fvOQ', 'https://i.ytimg.com/vi/MNeX4EGtR5Y/hq720.jpg?sqp=-oaymwEXCNAFEJQDSFryq4qpAwkIARUAAIhCGAE=&rs=AOn4CLAbYxFxXoXL_wsosXYUyHiCanXq-Q'], 'title': 'C++ in 100 Seconds', 'long_desc': None, 'channel': 'Fireship', 'duration': '2:46', 'views': '2,373,134 views', 'publish_time': '3 years ago', 'url_suffix': '/watch?v=MNeX4EGtR5Y&pp=ygUKQysrIGJhc2ljcw%3D%3D'}, {'id': 'ZzaPdXTrSb8', 'thumbnails': ['https://i.ytimg.com/vi/ZzaPdXTrSb8/hq720.jpg?sqp=-oaymwEjCOgCEMoBSFryq4qpAxUIARUAAAAAGAElAADIQj0AgKJDeAE=&rs=AOn4CLAe1Qi_0PowkJTcRe38yE7l_pPIrQ', 'https://i.ytimg.com/vi/ZzaPdXTrSb8/hq720.jpg?sqp=-oaymwEXCNAFEJQDSFryq4qpAwkIARUAAIhCGAE=&rs=AOn4CLB2Wp1SJH8UvRYQe_Zwqb3ZCTv1LA'], 'title': 'C++ Tutorial for Beginners - Learn C++ in 1 Hour', 'long_desc': None, 'channel': 'Programming with Mosh', 'duration': '1:22:56', 'views': '5,781,969 views', 'publish_time': '3 years ago', 'url_suffix': '/watch?v=ZzaPdXTrSb8&t=371s&pp=ygUKQysrIGJhc2ljcw%3D%3D'}, {'id': 'Sby9WEeWizA', 'thumbnails': ['https://i.ytimg.com/vi/Sby9WEeWizA/hqdefault.jpg?sqp=-oaymwEjCOADEI4CSFryq4qpAxUIARUAAAAAGAElAADIQj0AgKJDeAE=&rs=AOn4CLAFasCgmPFapVqvnphomr58hoo2HQ'], 'title': 'C++ Tutorial in One Short Video | Learn C++ Basics to Advanced Full Course', 'long_desc': None, 'channel': 'Skills For Everyone', 'duration': '5:15:54', 'views': '193 views', 'publish_time': '2 days ago', 'url_suffix': '/watch?v=Sby9WEeWizA&pp=ygUKQysrIGJhc2ljc9IHCQn7CQGHKiGM7w%3D%3D'}, {'id': 'EAR7De6Goz4', 'thumbnails': ['https://i.ytimg.com/vi/EAR7De6Goz4/hq720.jpg?sqp=-oaymwEjCOgCEMoBSFryq4qpAxUIARUAAAAAGAElAADIQj0AgKJDeAE=&rs=AOn4CLCSZKkbAbSg8mZg3JsHtmRG-HwtBQ', 'https://i.ytimg.com/vi/EAR7De6Goz4/hq720.jpg?sqp=-oaymwEXCNAFEJQDSFryq4qpAwkIARUAAIhCGAE=&rs=AOn4CLCl48_4-MtHDy8BhGD-zP7FeMhoLw'], 'title': 'C++ Basics in One Shot - Strivers A2Z DSA Course - L1', 'long_desc': None, 'channel': 'take U forward', 'duration': '1:26:27', 'views': '2,777,858 views', 'publish_time': '2 years ago', 'url_suffix': '/watch?v=EAR7De6Goz4&pp=ygUKQysrIGJhc2ljc9IHCQn7CQGHKiGM7w%3D%3D'}]}\n"
     ]
    }
   ],
   "source": [
    "from youtube_search import YoutubeSearch\n",
    "import json\n",
    "\n",
    "\n",
    "\n",
    "def youtubesearchagent(search_trms:str):\n",
    "    res= YoutubeSearch(search_terms=search_trms,max_results=5).to_json()\n",
    "\n",
    "    res_json=json.loads(res)\n",
    "\n",
    "\n",
    "    # for video in res_json['videos']:\n",
    "    #     print(video['title'], video['url_suffix'])        \n",
    "\n",
    "    print(res_json)\n",
    "\n",
    "\n",
    "\n",
    "youtubesearchagent('C++ basics')\n",
    "\n",
    "\n",
    "\n",
    "\n"
   ]
  },
  {
   "cell_type": "code",
   "execution_count": null,
   "id": "f82ab86d",
   "metadata": {},
   "outputs": [],
   "source": []
  }
 ],
 "metadata": {
  "kernelspec": {
   "display_name": "Python 3",
   "language": "python",
   "name": "python3"
  },
  "language_info": {
   "codemirror_mode": {
    "name": "ipython",
    "version": 3
   },
   "file_extension": ".py",
   "mimetype": "text/x-python",
   "name": "python",
   "nbconvert_exporter": "python",
   "pygments_lexer": "ipython3",
   "version": "3.13.0"
  }
 },
 "nbformat": 4,
 "nbformat_minor": 5
}
